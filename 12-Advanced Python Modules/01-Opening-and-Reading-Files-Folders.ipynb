{
 "cells": [
  {
   "cell_type": "markdown",
   "metadata": {},
   "source": [
    "___\n",
    "\n",
    "<a href='https://www.udemy.com/user/joseportilla/'><img src='../Pierian_Data_Logo.png'/></a>\n",
    "___\n",
    "<center><em>Content Copyright by Pierian Data</em></center>"
   ]
  },
  {
   "cell_type": "markdown",
   "metadata": {},
   "source": [
    "# Opening and Reading Files\n",
    "\n",
    "So far we've discussed how to open files manually, one by one. Let's explore how we can open files programatically. "
   ]
  },
  {
   "cell_type": "markdown",
   "metadata": {
    "collapsed": true
   },
   "source": [
    "_____"
   ]
  },
  {
   "cell_type": "markdown",
   "metadata": {},
   "source": [
    "### Review: Understanding File Paths"
   ]
  },
  {
   "cell_type": "code",
   "execution_count": 1,
   "metadata": {},
   "outputs": [
    {
     "data": {
      "text/plain": [
       "'/home/abay/Desktop/datascience/Complete-Python-3-Bootcamp-master/12-Advanced Python Modules'"
      ]
     },
     "execution_count": 1,
     "metadata": {},
     "output_type": "execute_result"
    }
   ],
   "source": [
    "pwd "
   ]
  },
  {
   "cell_type": "markdown",
   "metadata": {},
   "source": [
    "### Create Practice File\n",
    "\n",
    "We will begin by creating a practice text file that we will be using for demonstration."
   ]
  },
  {
   "cell_type": "code",
   "execution_count": 5,
   "metadata": {},
   "outputs": [],
   "source": [
    "f = open('practice.txt','w+')"
   ]
  },
  {
   "cell_type": "code",
   "execution_count": 6,
   "metadata": {},
   "outputs": [],
   "source": [
    "f.write('test this for your future. I think you will pass the exam for TOPTAl data science position.')\n",
    "f.close()"
   ]
  },
  {
   "cell_type": "markdown",
   "metadata": {},
   "source": [
    "### Getting Directories\n",
    "\n",
    "Python has a built-in [os module](https://docs.python.org/3/library/os.html) that allows us to use operating system dependent functionality.\n",
    "\n",
    "You can get the current directory:"
   ]
  },
  {
   "cell_type": "code",
   "execution_count": 7,
   "metadata": {},
   "outputs": [],
   "source": [
    "import os"
   ]
  },
  {
   "cell_type": "code",
   "execution_count": 8,
   "metadata": {},
   "outputs": [
    {
     "data": {
      "text/plain": [
       "'/home/abay/Desktop/datascience/Complete-Python-3-Bootcamp-master/12-Advanced Python Modules'"
      ]
     },
     "execution_count": 8,
     "metadata": {},
     "output_type": "execute_result"
    }
   ],
   "source": [
    "os.getcwd()"
   ]
  },
  {
   "cell_type": "markdown",
   "metadata": {},
   "source": [
    "### Listing Files in a Directory\n",
    "\n",
    "You can also use the os module to list directories."
   ]
  },
  {
   "cell_type": "code",
   "execution_count": 9,
   "metadata": {},
   "outputs": [
    {
     "data": {
      "text/plain": [
       "['00-Collections-Module.ipynb',\n",
       " '01-Opening-and-Reading-Files-Folders.ipynb',\n",
       " '05-Overview-of-Regular-Expressions.ipynb',\n",
       " 'Example_Top_Level',\n",
       " '02-Datetime-Module.ipynb',\n",
       " '07-Unzipping-and-Zipping-Files.ipynb',\n",
       " '04-Python Debugger (pdb).ipynb',\n",
       " '08-Advanced-Python-Module-Exercise',\n",
       " '.ipynb_checkpoints',\n",
       " '03-Math-and-Random-Module.ipynb',\n",
       " '06-Timing your code - timeit.ipynb',\n",
       " 'practice.txt']"
      ]
     },
     "execution_count": 9,
     "metadata": {},
     "output_type": "execute_result"
    }
   ],
   "source": [
    "# In your current directory\n",
    "os.listdir()"
   ]
  },
  {
   "cell_type": "code",
   "execution_count": 14,
   "metadata": {},
   "outputs": [
    {
     "data": {
      "text/plain": [
       "['1d.2554.csv',\n",
       " '1DdynamicPcTnR4beta0poro025.csv',\n",
       " 'masCO2an0beta0Hetro.txt',\n",
       " 'CO2inWetHomoanbeta.gp',\n",
       " 'Untitled3.ipynb',\n",
       " 'InpactofanK13.eps',\n",
       " '1dRelPerman6poro025perm12.csv',\n",
       " '1DdynamicPcbeta6poro02.csv',\n",
       " '1DdynamicPcbeta6.csv',\n",
       " '1DdynamicPcInR75e4beta0poro02perm13.csv',\n",
       " 'totalCO2HetroanDensity600.eps',\n",
       " 'masCO2an3beta0HetroDensity600.txt',\n",
       " 'PlumeFrontLocationforPerm.eps',\n",
       " 'SampleExamoleGnuplotColor.eps',\n",
       " '1DdynamicRelPermInR25e3an3poro02perm13.csv',\n",
       " 'gradientDescent_june3.ipynb',\n",
       " 'PumeHeighta_n.eps',\n",
       " 'InpactofanPoro02.eps',\n",
       " 'masCO2an3beta0Hetro.txt',\n",
       " 'CO2inWaterHetrobetaDensity600.eps',\n",
       " '1dRelPermbeta0.csv',\n",
       " 'InpactofbetaK13.eps',\n",
       " 'masCO2an0beta6HetroDensity750.txt',\n",
       " 'zeroPcRelper0.csv',\n",
       " 'CO2inWetHetroanbeta.eps',\n",
       " 'CO2innonWetHetroan.eps',\n",
       " 'totalCO2Homoanbeta.eps',\n",
       " 'masCO2an0beta0HetroDensity600.txt',\n",
       " '1DdynamicPcInR4beta0poro02perm13.csv',\n",
       " 'InpactofbetaInR1e3.eps',\n",
       " 'Recommender system.ipynb',\n",
       " 'sample_submission.csv',\n",
       " 'totalCO2Hetrobeta.eps',\n",
       " 'CO2innonWetHomobeta.eps',\n",
       " 'CO2inWetHomoan.eps',\n",
       " 'InpactofbetaK14.eps',\n",
       " '1dPcKr2.csv',\n",
       " '1DdynamicPcbeta3perm12.csv',\n",
       " 'totalCO2HetrobetaDensity890.eps',\n",
       " '1DdynamicPcbeta3poro025.csv',\n",
       " '1Dbeta6an3.csv',\n",
       " '1Dbet3an6.csv',\n",
       " 'masCO2an0beta0HetroDensity750.txt',\n",
       " 'CO2inWaterHetrobetaDensity890.eps',\n",
       " '1DdynamicPcTnR4beta3poro025.csv',\n",
       " '1dRelPerman0poro03perm12.csv',\n",
       " '1DdynamicPcbeta3perm14.csv',\n",
       " '1dRelPerman3poro025perm14.csv',\n",
       " 'PlumeFrontLocation.eps',\n",
       " '1dRelPerman6poro03.csv',\n",
       " '1DdynamicPcbeta0poro025.csv',\n",
       " '1DdynamicPcbeta3poro035.csv',\n",
       " 'zeroPcIniRelper.csv',\n",
       " '1dRelPerman3perm14.csv',\n",
       " 'Untitled Document 1',\n",
       " 'functions.ipynb',\n",
       " '1dDynamicPcbeta3poro03perm14.csv',\n",
       " '1dDynamicPcbeta6poro025perm14.csv',\n",
       " 'totalCO2Hetroan.gp',\n",
       " '1DdynamicPcInR25e3beta6poro02perm13.csv',\n",
       " 'CO2inWetHetroan.gp',\n",
       " 'totalCO2Hetroanbeta.eps',\n",
       " 'ExampleBeta2.txt',\n",
       " 'InpactofbetaPoro01.eps',\n",
       " 'CO2innonWetHomobeta.gp',\n",
       " 'masCO2an0beta0Homoge.txt',\n",
       " '1dRelPerman0poro025perm14.csv',\n",
       " 'masCO2an0beta3Hetro.txt',\n",
       " '1dPc.csv',\n",
       " 'dynamicRelPerm.ipynb',\n",
       " 'totalCO2HetroanDensity600.gp',\n",
       " '1dRelPerman0poro025.csv',\n",
       " '1dRelPerman0poro02.csv',\n",
       " 'CoExap.eps',\n",
       " 'plot.gp',\n",
       " 'zeroPcfinaRelper.csv',\n",
       " 'InpactofbetaK12.eps',\n",
       " '1dPcKr0.csv',\n",
       " '1DdynamicPcbeta3poro03perm12.csv',\n",
       " 'masCO2an0beta6HetroDensity890.txt',\n",
       " 'RelPermTestBCstart.csv',\n",
       " '1dexamoleKral.eps',\n",
       " 'masCO2an6beta0HetroDensity600.txt',\n",
       " 'totalinjectedCO2.txt',\n",
       " 'CO2plumeHeight.eps',\n",
       " 'clssified Data_files',\n",
       " '1DdynamicPcInR25e3beta0poro02perm13.csv',\n",
       " '1DdynamicPcbeta0poro02vis1e4.csv',\n",
       " '1dRelPerman0poro025perm12.csv',\n",
       " '1DdynamicPcbeta6poro01.csv',\n",
       " '1DdynamicRelPerman3poro015.csv',\n",
       " 'BankNote_Authentication.csv',\n",
       " 'kaggleComputation.ipynb',\n",
       " 'totalCO2Homoan.gp',\n",
       " 'totalCO2HetroanDensity750.gp',\n",
       " '1dRelPerm0.csv',\n",
       " 'RelPermTestLETstart.csv',\n",
       " 'CO2inWetHetroan.eps',\n",
       " '1DdynamicPcbeta6perm12.csv',\n",
       " '1DdynamicPcbeta6poro02visc3e5.csv',\n",
       " '1DdynamicPcInR25e4beta6poro02perm13.csv',\n",
       " 'InpactofbetaPoro015.eps',\n",
       " 'masCO2an0beta3HetroDensity890.txt',\n",
       " 'InpactofanK12.eps',\n",
       " 'winequality.ipynb',\n",
       " 'InpactofanPoro015.eps',\n",
       " 'masCO2an6beta0Homoge.txt',\n",
       " '1DdynamicPcInR4beta3poro02perm13.csv',\n",
       " '1DdynamicPcbeta3poro03.csv',\n",
       " 'Co2In.vtk',\n",
       " '1dRelPerman0perm14.csv',\n",
       " '1DdynamicPcbeta3poro025perm12.csv',\n",
       " 'dynamicPc.ipynb',\n",
       " '1DdynamicPcbeta6poro02vis5e5.csv',\n",
       " 'SampleExamoleGnuplotColor.gp',\n",
       " '1DdynamicPcbeta6poro03perm12.csv',\n",
       " 'RelPermTestBCbeta10.csv',\n",
       " '1DdynamicPcbeta0poro03perm12.csv',\n",
       " '1DdynamicPcInR25e3beta3poro02perm13.csv',\n",
       " 'masCO2an6beta0Hetro.txt',\n",
       " 'totalCO2Hetroanbeta.gp',\n",
       " '1DdynamicPcbeta0poro01.csv',\n",
       " '1dRelPerman3poro03.csv',\n",
       " '1dRelPerman3poro03perm12.csv',\n",
       " '1dRelPerman6perm14.csv',\n",
       " 'masCO2an3beta3Hetro.txt',\n",
       " 'RelPermTestBCbeta00.csv',\n",
       " '1dDynamicPcbeta6poro03perm14.csv',\n",
       " '1DdynamicPcbeta0.csv',\n",
       " 'PrincipalComponenetAnaysis.ipynb',\n",
       " 'RelativePerm.eps',\n",
       " 'CO2plumeHeightsurf.eps',\n",
       " '2dtrial.py',\n",
       " 'totalCO2HetroanDensity750.eps',\n",
       " '1DdynamicPcInR4beta6poro02perm13.csv',\n",
       " 'test.gp',\n",
       " 'classiffier.pkl',\n",
       " '1dPcKr3.csv',\n",
       " 'CO2inWetHomobeta.eps',\n",
       " 'masCO2an0beta6Homoge.txt',\n",
       " 'masCO2an3beta3Homoge.txt',\n",
       " '1DdynamicPcbeta0perm14.csv',\n",
       " '1DdynamicPcbeta3poro02.csv',\n",
       " 'totalCO2Homobeta.gp',\n",
       " '1DdynamicPcInR25e4beta3poro02perm13.csv',\n",
       " 'CO2innonWetHetroan.gp',\n",
       " '1Dbeta3an3.csv',\n",
       " 'totalCO2HetrobetaDensity600.eps',\n",
       " 'CO2plumeHeight2dan.eps',\n",
       " 'totalCO2HetrobetaDensity750.gp',\n",
       " 'ScaedCO2inPace.eps',\n",
       " '1dRelPerman3poro025.csv',\n",
       " 'InpactofanInR25e4.eps',\n",
       " '1dRelPerm4.csv',\n",
       " '1DdynamicPcbeta0poro035.csv',\n",
       " '1DdynamicPcbeta6poro025.csv',\n",
       " '1dRelPerman6perm..csv',\n",
       " '1DdynamicPcbeta6poro15.csv',\n",
       " 'totalCO2HetrobetaDensity890.gp',\n",
       " 'Untitled4.ipynb',\n",
       " 'CO2arivaltimeTop.eps',\n",
       " 'temp.py',\n",
       " '1dRelPerman6poro03perm12.csv',\n",
       " 'InpactofbetaInR25e4.eps',\n",
       " '1DdynamicPcbeta6poro025perm12.csv',\n",
       " 'CO2innonWetHomoanbeta.gp',\n",
       " 'CO2innonWetHetrobeta.eps',\n",
       " '1dRelPerman3poro025perm12.csv',\n",
       " 'InpactofanInR25e3.eps',\n",
       " 'totalCO2HetroanDensity890.gp',\n",
       " '1DdynamicPcbeta6poro02vis1e4.csv',\n",
       " 'streamlitTodeployBankAuthentication.py',\n",
       " '1DdynamicPcInR25e4beta0poro02perm13.csv',\n",
       " 'ScikitTutoria.ipynb',\n",
       " 'PCA.ipynb',\n",
       " 'CO2plumeHeight2danbeta.eps',\n",
       " '1DdynamicPcbeta0poro03.csv',\n",
       " 'zeroPcfinaRelper3.csv',\n",
       " '1DdynamicPcbeta3.csv',\n",
       " 'zeroPcRelper3.csv',\n",
       " 'masCO2an0beta3Homoge.txt',\n",
       " '1dRelPermbeta6.csv',\n",
       " 'masCO2an6beta6Hetro.txt',\n",
       " '1dDynamicPcbeta0poro025perm14.csv',\n",
       " '1dRelPerman6poro03perm14.csv',\n",
       " '1DdynamicPcbeta3poro02vis1e4.csv',\n",
       " '1DdynamicRelPermInR25e4an6poro02perm13.csv',\n",
       " 'totalCO2Hetrobeta.gp',\n",
       " 'KNN.ipynb',\n",
       " 'totalCO2HetrobetaDensity600.gp',\n",
       " 'InpactofanK14.eps',\n",
       " 'CO2innonWetHetroanbeta.gp',\n",
       " '1dRelPerman6poro02.csv',\n",
       " 'CO2inWetHetrobeta.eps',\n",
       " '1dRelPerman3poro02.csv',\n",
       " '1Dbeta3an6.csv',\n",
       " 'ZeroPcrelPermeff.eps',\n",
       " 'homeprices.csv',\n",
       " '1DdynamicPcbeta0poro025perm12.csv',\n",
       " '1DdynamicPcbeta6poro035.csv',\n",
       " 'data_description.txt',\n",
       " 'CO2inWaterHetrobetaDensity750.gp',\n",
       " 'CO2inWetHomobeta.gp',\n",
       " 'winequality-red.csv',\n",
       " 'RelPermTestBCfinal.csv',\n",
       " 'masCO2an0beta3HetroDensity750.txt',\n",
       " 'train.csv',\n",
       " 'ExampleBeta2',\n",
       " '1DdynamicPcInR75e4beta6poro02perm13.csv',\n",
       " '.ipynb_checkpoints',\n",
       " 'InpactofanInR1e3.eps',\n",
       " '1dexamolePc.eps',\n",
       " 'ExampleBeta2.csv',\n",
       " '1dDynamicPcbeta0poro03perm14.csv',\n",
       " '1dRelPerman3poro03perm14.csv',\n",
       " 'zeroPcfinaRelper0.csv',\n",
       " 'importvtkFile.ipynb',\n",
       " '1Dbeta6an6.csv',\n",
       " 'CO2inWetHomoan.gp',\n",
       " 'masCO2an0beta6Hetro.txt',\n",
       " 'CO2arivaltimeotlet.eps',\n",
       " '1DdynamicPcInR4beta3poro02perm12.csv',\n",
       " 'CO2innonWetHetroanbeta.eps',\n",
       " 'CO2inWetHomoanbeta.eps',\n",
       " 'test.csv',\n",
       " 'totalCO2Homoan.eps',\n",
       " 'COInplaceBetaHomo.eps',\n",
       " '1dRelPermbeta3poro025perm14.csv',\n",
       " '1drelPermPceff.eps',\n",
       " 'CoExap.png',\n",
       " 'CO2innonWetHomoanbeta.eps',\n",
       " 'PlumeFrontLocationforPoro.eps',\n",
       " 'Classified Data.csv',\n",
       " 'CO2inWaterHetrobetaDensity890.gp',\n",
       " '1dRelPermbeta6poro025perm14.csv',\n",
       " '1dRelPerman6poro025perm14.csv',\n",
       " '1DdynamicPcbeta0poro015.csv',\n",
       " 'CO2innonWetHetrobeta.gp',\n",
       " '1DdynamicPcbeta3poro015.csv',\n",
       " '1dRelPerman6perm12.csv',\n",
       " 'masCO2an0beta6HetroDensity600.txt',\n",
       " '1dPcKr4.csv',\n",
       " 'masCO2an6beta6Homoge.txt',\n",
       " '1DdynamicRelPermInR25e3an6poro02perm13.csv',\n",
       " '1DdynamicPcbeta0poro02visc3e5.csv',\n",
       " 'totalCO2Homobeta.eps',\n",
       " '1DdynamicPcInR4beta0poro02perm12.csv',\n",
       " 'masCO2an0beta0HetroDensity890.txt',\n",
       " 'CO2inWetHetrobeta.gp',\n",
       " 'totalCO2Hetroan.eps',\n",
       " 'masCO2an6beta0HetroDensity890.txt',\n",
       " 'masCO2an6beta0HetroDensity750.txt',\n",
       " 'totalCO2Homoanbeta.gp',\n",
       " 'OOP_objectorientedprogramming.ipynb',\n",
       " 'CO2plumeHeight2dbeta.eps',\n",
       " 'Untitled.ipynb',\n",
       " '1DdynamicPcbeta3poro02visc3e5.csv',\n",
       " 'InpactofanPoro05.eps',\n",
       " 'UniMulti-variate.ipynb',\n",
       " 'masCO2an3beta0HetroDensity890.txt',\n",
       " 'masCO2an0beta3HetroDensity600.txt',\n",
       " 'totalCO2HetrobetaDensity750.eps',\n",
       " 'u.data',\n",
       " '1DdynamicPcTnR4beta6poro025.csv',\n",
       " 'PlotUsingSeaBorn.ipynb',\n",
       " 'COInplaceBeta.eps',\n",
       " 'flasgger_bank_authentication.py',\n",
       " '1DdynamicPcbeta6perm14.csv',\n",
       " 'CO2inWaterHetrobetaDensity600.gp',\n",
       " '1DdynamicPcbeta0poro02vis9e5.csv',\n",
       " 'masCO2.txt',\n",
       " '1DdynamicPcbeta3poro01.csv',\n",
       " '1DdynamicPcbeta6poro02vis9e5.csv',\n",
       " '1dRelPerman0perm12.csv',\n",
       " 'Untitled1.ipynb',\n",
       " 'RelPermTestLETfinal.csv',\n",
       " '1dDynamicPcbeta3poro025perm14.csv',\n",
       " 'Complete-Python-3-Bootcamp-master',\n",
       " '1DdynamicPcInR75e4beta3poro02perm13.csv',\n",
       " '1dPcKr6.csv',\n",
       " 'totalCO2HetroanDensity890.eps',\n",
       " 'CO2inWetHetroanbeta.gp',\n",
       " '1DdynamicPcbeta6poro015.csv',\n",
       " 'InpactofbetaPoro02.eps',\n",
       " 'iris.csv',\n",
       " 'InpactofanPoro03.eps',\n",
       " 'zeroPcRelper6.csv',\n",
       " '1dRelPerman0poro03perm14.csv',\n",
       " '1dRelPerman6poro025.csv',\n",
       " '1DdynamicRelPerman6poro015.csv',\n",
       " '1dRelPerman0poro03.csv',\n",
       " 'Untitled7.ipynb',\n",
       " '.git',\n",
       " '1dRelPerman3perm12.csv',\n",
       " 'delaTime.eps',\n",
       " 'zeroPcfinaRelper6.csv',\n",
       " 'functioninpython.ipynb',\n",
       " 'masCO2an3betaHomoge.txt',\n",
       " '1DdynamicPcbeta0perm12.csv',\n",
       " '1DdynamicRelPermInR25e4an3poro02perm13.csv',\n",
       " 'Height.txt',\n",
       " 'Movie_Id_Titles.csv',\n",
       " 'NormalizationAndStandardization.ipynb',\n",
       " '1DdynamicPcInR4beta6poro02perm12.csv',\n",
       " '1DdynamicPcbeta0poro02.csv',\n",
       " '1dRelPermbeta3.csv',\n",
       " 'T-test.ipynb',\n",
       " 'CO2inWaterHetrobetaDensity750.eps',\n",
       " '1DdynamicPcbeta0poro02vis5e5.csv',\n",
       " '1dRelPerm2.csv',\n",
       " 'InpactofbetaInR25e3.eps',\n",
       " 'masCO2an3beta0Homoge.txt',\n",
       " 'PumeHeight.eps',\n",
       " 'CombinedEffectBetaan.eps',\n",
       " 'Untitled6.ipynb',\n",
       " 'masCO2an3beta0HetroDensity750.txt',\n",
       " '1DdynamicPcbeta6poro03.csv',\n",
       " 'InpactofbetaPoro03.eps']"
      ]
     },
     "execution_count": 14,
     "metadata": {},
     "output_type": "execute_result"
    }
   ],
   "source": [
    "# In any directory you pass\n",
    "os.listdir(\"/home/abay/Desktop/datascience/\")"
   ]
  },
  {
   "cell_type": "markdown",
   "metadata": {
    "collapsed": true
   },
   "source": [
    "### Moving Files \n",
    "\n",
    "You can use the built-in **shutil** module to to move files to different locations. Keep in mind, there are permission restrictions, for example if you are logged in a User A, you won't be able to make changes to the top level Users folder without the proper permissions, [more info](https://stackoverflow.com/questions/23253439/shutil-movescr-dst-gets-me-ioerror-errno-13-permission-denied-and-3-more-e)"
   ]
  },
  {
   "cell_type": "code",
   "execution_count": 16,
   "metadata": {},
   "outputs": [],
   "source": [
    "import shutil"
   ]
  },
  {
   "cell_type": "code",
   "execution_count": 17,
   "metadata": {},
   "outputs": [
    {
     "data": {
      "text/plain": [
       "'/home/abay/Desktop/practice.txt'"
      ]
     },
     "execution_count": 17,
     "metadata": {},
     "output_type": "execute_result"
    }
   ],
   "source": [
    "shutil.move('practice.txt','/home/abay/Desktop/')"
   ]
  },
  {
   "cell_type": "code",
   "execution_count": 11,
   "metadata": {},
   "outputs": [
    {
     "data": {
      "text/plain": [
       "['.ipynb_checkpoints',\n",
       " '00-Collections-Module.ipynb',\n",
       " '01-Datetime-Module.ipynb',\n",
       " '01-Opening-and-Reading-Files.ipynb',\n",
       " '02-Math-and-Random-Module.ipynb',\n",
       " '03-Python Debugger (pdb).ipynb',\n",
       " '04-Timing your code - timeit.ipynb',\n",
       " '05-Overview-of-Regular-Expressions.ipynb',\n",
       " '06-Unzipping-and-Zipping-Files.ipynb',\n",
       " '07-OS-Module.ipynb',\n",
       " '08-Advanced-Python-Module-Exercise',\n",
       " 'comp_file.zip',\n",
       " 'Example_Top_Level',\n",
       " 'extracted_content',\n",
       " 'new_file.txt',\n",
       " 'new_file2.txt']"
      ]
     },
     "execution_count": 11,
     "metadata": {},
     "output_type": "execute_result"
    }
   ],
   "source": [
    "os.listdir()"
   ]
  },
  {
   "cell_type": "code",
   "execution_count": 12,
   "metadata": {},
   "outputs": [
    {
     "data": {
      "text/plain": [
       "'C:\\\\Users\\\\Marcial\\\\Pierian-Data-Courses\\\\Complete-Python-3-Bootcamp\\\\12-Advanced Python Modules\\\\practice.txt'"
      ]
     },
     "execution_count": 12,
     "metadata": {},
     "output_type": "execute_result"
    }
   ],
   "source": [
    "shutil.move('C:\\\\Users\\\\Marcial\\practice.txt',os.getcwd())"
   ]
  },
  {
   "cell_type": "code",
   "execution_count": 13,
   "metadata": {},
   "outputs": [
    {
     "data": {
      "text/plain": [
       "['.ipynb_checkpoints',\n",
       " '00-Collections-Module.ipynb',\n",
       " '01-Datetime-Module.ipynb',\n",
       " '01-Opening-and-Reading-Files.ipynb',\n",
       " '02-Math-and-Random-Module.ipynb',\n",
       " '03-Python Debugger (pdb).ipynb',\n",
       " '04-Timing your code - timeit.ipynb',\n",
       " '05-Overview-of-Regular-Expressions.ipynb',\n",
       " '06-Unzipping-and-Zipping-Files.ipynb',\n",
       " '07-OS-Module.ipynb',\n",
       " '08-Advanced-Python-Module-Exercise',\n",
       " 'comp_file.zip',\n",
       " 'Example_Top_Level',\n",
       " 'extracted_content',\n",
       " 'new_file.txt',\n",
       " 'new_file2.txt',\n",
       " 'practice.txt']"
      ]
     },
     "execution_count": 13,
     "metadata": {},
     "output_type": "execute_result"
    }
   ],
   "source": [
    "os.listdir()"
   ]
  },
  {
   "cell_type": "markdown",
   "metadata": {},
   "source": [
    "### Deleting Files\n",
    "____\n",
    "**NOTE: The os module provides 3 methods for deleting files:**\n",
    "* os.unlink(path) which deletes a file at the path your provide\n",
    "* os.rmdir(path) which deletes a folder (folder must be empty) at the path your provide\n",
    "* shutil.rmtree(path) this is the most dangerous, as it will remove all files and folders contained in the path.\n",
    "**All of these methods can not be reversed! Which means if you make a mistake you won't be able to recover the file. Instead we will use the send2trash module. A safer alternative that sends deleted files to the trash bin instead of permanent removal.**\n",
    "___\n",
    "\n",
    "Install the send2trash module with:\n",
    "\n",
    "    pip install send2trash\n",
    "    \n",
    "at your command line."
   ]
  },
  {
   "cell_type": "code",
   "execution_count": 14,
   "metadata": {
    "collapsed": true
   },
   "outputs": [],
   "source": [
    "import send2trash"
   ]
  },
  {
   "cell_type": "code",
   "execution_count": 15,
   "metadata": {},
   "outputs": [
    {
     "data": {
      "text/plain": [
       "['.ipynb_checkpoints',\n",
       " '00-Collections-Module.ipynb',\n",
       " '01-Datetime-Module.ipynb',\n",
       " '01-Opening-and-Reading-Files.ipynb',\n",
       " '02-Math-and-Random-Module.ipynb',\n",
       " '03-Python Debugger (pdb).ipynb',\n",
       " '04-Timing your code - timeit.ipynb',\n",
       " '05-Overview-of-Regular-Expressions.ipynb',\n",
       " '06-Unzipping-and-Zipping-Files.ipynb',\n",
       " '07-OS-Module.ipynb',\n",
       " '08-Advanced-Python-Module-Exercise',\n",
       " 'comp_file.zip',\n",
       " 'Example_Top_Level',\n",
       " 'extracted_content',\n",
       " 'new_file.txt',\n",
       " 'new_file2.txt',\n",
       " 'practice.txt']"
      ]
     },
     "execution_count": 15,
     "metadata": {},
     "output_type": "execute_result"
    }
   ],
   "source": [
    "os.listdir()"
   ]
  },
  {
   "cell_type": "code",
   "execution_count": 16,
   "metadata": {
    "collapsed": true
   },
   "outputs": [],
   "source": [
    "send2trash.send2trash('practice.txt')"
   ]
  },
  {
   "cell_type": "code",
   "execution_count": 17,
   "metadata": {},
   "outputs": [
    {
     "data": {
      "text/plain": [
       "['.ipynb_checkpoints',\n",
       " '00-Collections-Module.ipynb',\n",
       " '01-Datetime-Module.ipynb',\n",
       " '01-Opening-and-Reading-Files.ipynb',\n",
       " '02-Math-and-Random-Module.ipynb',\n",
       " '03-Python Debugger (pdb).ipynb',\n",
       " '04-Timing your code - timeit.ipynb',\n",
       " '05-Overview-of-Regular-Expressions.ipynb',\n",
       " '06-Unzipping-and-Zipping-Files.ipynb',\n",
       " '07-OS-Module.ipynb',\n",
       " '08-Advanced-Python-Module-Exercise',\n",
       " 'comp_file.zip',\n",
       " 'Example_Top_Level',\n",
       " 'extracted_content',\n",
       " 'new_file.txt',\n",
       " 'new_file2.txt']"
      ]
     },
     "execution_count": 17,
     "metadata": {},
     "output_type": "execute_result"
    }
   ],
   "source": [
    "os.listdir()"
   ]
  },
  {
   "cell_type": "markdown",
   "metadata": {},
   "source": [
    "### Walking through a directory\n",
    "\n",
    "Often you will just need to \"walk\" through a directory, that is visit every file or folder and check to see if a file is in the directory, and then perhaps do something with that file. Usually recursively walking through every file and folder in a directory would be quite tricky to program, but luckily the os module has a direct method call for this called os.walk(). Let's explore how it works."
   ]
  },
  {
   "cell_type": "code",
   "execution_count": 18,
   "metadata": {},
   "outputs": [
    {
     "data": {
      "text/plain": [
       "'C:\\\\Users\\\\Marcial\\\\Pierian-Data-Courses\\\\Complete-Python-3-Bootcamp\\\\12-Advanced Python Modules'"
      ]
     },
     "execution_count": 18,
     "metadata": {},
     "output_type": "execute_result"
    }
   ],
   "source": [
    "os.getcwd()"
   ]
  },
  {
   "cell_type": "code",
   "execution_count": 19,
   "metadata": {},
   "outputs": [
    {
     "data": {
      "text/plain": [
       "['.ipynb_checkpoints',\n",
       " '00-Collections-Module.ipynb',\n",
       " '01-Datetime-Module.ipynb',\n",
       " '01-Opening-and-Reading-Files.ipynb',\n",
       " '02-Math-and-Random-Module.ipynb',\n",
       " '03-Python Debugger (pdb).ipynb',\n",
       " '04-Timing your code - timeit.ipynb',\n",
       " '05-Overview-of-Regular-Expressions.ipynb',\n",
       " '06-Unzipping-and-Zipping-Files.ipynb',\n",
       " '07-OS-Module.ipynb',\n",
       " '08-Advanced-Python-Module-Exercise',\n",
       " 'comp_file.zip',\n",
       " 'Example_Top_Level',\n",
       " 'extracted_content',\n",
       " 'new_file.txt',\n",
       " 'new_file2.txt']"
      ]
     },
     "execution_count": 19,
     "metadata": {},
     "output_type": "execute_result"
    }
   ],
   "source": [
    "os.listdir()"
   ]
  },
  {
   "cell_type": "code",
   "execution_count": 2,
   "metadata": {},
   "outputs": [
    {
     "name": "stdout",
     "output_type": "stream",
     "text": [
      "Currently looking at folder: Example_Top_Level\n",
      "\n",
      "\n",
      "THE SUBFOLDERS ARE: \n",
      "\t Subfolder: Mid-Example-One\n",
      "\t Subfolder: Mid-Example-Two\n",
      "\n",
      "\n",
      "THE FILES ARE: \n",
      "\t File: Mid-Example.txt\n",
      "\n",
      "\n",
      "Currently looking at folder: Example_Top_Level\\Mid-Example-One\n",
      "\n",
      "\n",
      "THE SUBFOLDERS ARE: \n",
      "\t Subfolder: Bottom-Level-One\n",
      "\t Subfolder: Bottom-Level-Two\n",
      "\n",
      "\n",
      "THE FILES ARE: \n",
      "\t File: Mid-Level-Doc.txt\n",
      "\n",
      "\n",
      "Currently looking at folder: Example_Top_Level\\Mid-Example-One\\Bottom-Level-One\n",
      "\n",
      "\n",
      "THE SUBFOLDERS ARE: \n",
      "\n",
      "\n",
      "THE FILES ARE: \n",
      "\t File: One_Text.txt\n",
      "\n",
      "\n",
      "Currently looking at folder: Example_Top_Level\\Mid-Example-One\\Bottom-Level-Two\n",
      "\n",
      "\n",
      "THE SUBFOLDERS ARE: \n",
      "\n",
      "\n",
      "THE FILES ARE: \n",
      "\t File: Bottom-Text-Two.txt\n",
      "\n",
      "\n",
      "Currently looking at folder: Example_Top_Level\\Mid-Example-Two\n",
      "\n",
      "\n",
      "THE SUBFOLDERS ARE: \n",
      "\n",
      "\n",
      "THE FILES ARE: \n",
      "\n",
      "\n"
     ]
    }
   ],
   "source": [
    "for folder , sub_folders , files in os.walk(\"Example_Top_Level\"):\n",
    "    \n",
    "    print(\"Currently looking at folder: \"+ folder)\n",
    "    print('\\n')\n",
    "    print(\"THE SUBFOLDERS ARE: \")\n",
    "    for sub_fold in sub_folders:\n",
    "        print(\"\\t Subfolder: \"+sub_fold )\n",
    "    \n",
    "    print('\\n')\n",
    "    \n",
    "    print(\"THE FILES ARE: \")\n",
    "    for f in files:\n",
    "        print(\"\\t File: \"+f)\n",
    "    print('\\n')\n",
    "    \n",
    "    # Now look at subfolders"
   ]
  },
  {
   "cell_type": "markdown",
   "metadata": {
    "collapsed": true
   },
   "source": [
    "___\n",
    "Excellent, you should now be aware of how to work with a computer's files and folders in whichever directory they are in. Remember that the os module works for any oeprating system that supports Python, which means these commands will work across Linux,MacOs, or Windows without need for adjustment."
   ]
  }
 ],
 "metadata": {
  "anaconda-cloud": {},
  "kernelspec": {
   "display_name": "Python 3",
   "language": "python",
   "name": "python3"
  },
  "language_info": {
   "codemirror_mode": {
    "name": "ipython",
    "version": 3
   },
   "file_extension": ".py",
   "mimetype": "text/x-python",
   "name": "python",
   "nbconvert_exporter": "python",
   "pygments_lexer": "ipython3",
   "version": "3.6.9"
  }
 },
 "nbformat": 4,
 "nbformat_minor": 2
}
